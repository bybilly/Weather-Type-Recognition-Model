{
 "cells": [
  {
   "cell_type": "markdown",
   "id": "be5b05d1",
   "metadata": {},
   "source": [
    "# Weather Recognition Model \n",
    "I will use a convolutional neural network to predict the weather in a provided image. As this is my first independent Machine Learning project, I will classify images into the classes: rain, lightning, and snow.\n",
    "\n",
    "The data used was downloaded from https://www.kaggle.com/datasets/jehanbhathena/weather-dataset"
   ]
  },
  {
   "cell_type": "markdown",
   "id": "6a1b3bd2",
   "metadata": {},
   "source": [
    "## 1 Data Preparation\n",
    "\n",
    "I have downloaded and extracted the data from Kaggle, which is stored in the 'data' folder. Samples for each class are stored in corresponding folders inside - for example, all examples of rainy weather are stored in the 'data/rain' folder. I have removed all irrelevent class folders manually."
   ]
  },
  {
   "cell_type": "markdown",
   "id": "6395e716",
   "metadata": {},
   "source": [
    "### 1.1 Dividing data into training, validation, and testing sets"
   ]
  },
  {
   "cell_type": "markdown",
   "id": "59f5a9d8",
   "metadata": {},
   "source": [
    "I will divide the data into training, validation, and testing sets. 80% of the data will be used for testing and 10% used for both validation and testing."
   ]
  },
  {
   "cell_type": "code",
   "execution_count": 72,
   "id": "08ca7836",
   "metadata": {},
   "outputs": [
    {
     "name": "stdout",
     "output_type": "stream",
     "text": [
      "Number of rain samples: 152\n",
      "Number of lightning samples: 3\n",
      "Number of snow samples: 247\n"
     ]
    }
   ],
   "source": [
    "import os\n",
    "\n",
    "# Extract a list of file names for each class\n",
    "rain_files = os.listdir('data/rain')\n",
    "lightning_files = os.listdir('data/lightning')\n",
    "snow_files = os.listdir('data/snow')\n",
    "\n",
    "# Output how many files we have for each class\n",
    "print(f\"Number of rain samples: {len(rain_files)}\")\n",
    "print(f\"Number of lightning samples: {len(lightning_files)}\")\n",
    "print(f\"Number of snow samples: {len(snow_files)}\")"
   ]
  },
  {
   "cell_type": "markdown",
   "id": "7e38acbd",
   "metadata": {},
   "source": [
    "There are an unequal amount of files in each class. Splitting the data now and training the model might cause the model to become biased to snow, the majority class. I have decided to use the undersampling technique; I will take 377 images from each class. I have made this decision because I believe this is a sufficient amount of data to adequately train and test the model."
   ]
  },
  {
   "cell_type": "code",
   "execution_count": 73,
   "id": "37035c35",
   "metadata": {},
   "outputs": [
    {
     "name": "stdout",
     "output_type": "stream",
     "text": [
      "Training set size: 303\n",
      "Validation set size: 37\n",
      "Testing set size: 37\n"
     ]
    }
   ],
   "source": [
    "import math\n",
    "\n",
    "# Number of samples in smallest class\n",
    "n = 377\n",
    "\n",
    "# Work out sizes of each set\n",
    "training_set_size = math.floor(n*0.8)\n",
    "validation_set_size = math.floor(n*0.1)\n",
    "testing_set_size = validation_set_size\n",
    "\n",
    "# Add remaining samples to training set size\n",
    "training_set_size += n - (training_set_size + validation_set_size + testing_set_size)\n",
    "\n",
    "# Output size of each set\n",
    "print(\"Training set size:\", training_set_size)\n",
    "print(\"Validation set size:\", validation_set_size)\n",
    "print(\"Testing set size:\", testing_set_size)"
   ]
  },
  {
   "cell_type": "markdown",
   "id": "dc12630b",
   "metadata": {},
   "source": [
    "To store the different datasets I will create 3 subfolders inside the rain, lightning, and snow folders: train, validate, and test. I will then choose the appropriate amount of random images and add them to the corresponding folder."
   ]
  },
  {
   "cell_type": "code",
   "execution_count": 74,
   "id": "869e8e9a",
   "metadata": {},
   "outputs": [],
   "source": [
    "import shutil\n",
    "from sklearn.utils import shuffle\n",
    "\n",
    "os.chdir('data')\n",
    "\n",
    "# Check if subfolders have already been created in case of a re-run\n",
    "if os.path.isdir('rain/train') is False:\n",
    "    # Create subfolders for training, validation, and testing\n",
    "    os.makedirs('rain/train')\n",
    "    os.makedirs('rain/validate')\n",
    "    os.makedirs('rain/test')\n",
    "    os.makedirs('lightning/train')\n",
    "    os.makedirs('lightning/validate')\n",
    "    os.makedirs('lightning/test')\n",
    "    os.makedirs('snow/train')\n",
    "    os.makedirs('snow/validate')\n",
    "    os.makedirs('snow/test')\n",
    "    \n",
    "    # Shuffle list of file names, in case there is any order\n",
    "    rain_files = shuffle(rain_files)\n",
    "    lightning_files = shuffle(lightning_files)\n",
    "    snow_files = shuffle(snow_files)\n",
    "    \n",
    "    # Populate folders\n",
    "    for i in range(0, training_set_size):\n",
    "        shutil.move(f'rain/{rain_files[i]}', 'rain/train')\n",
    "        shutil.move(f'lightning/{lightning_files[i]}', 'lightning/train')\n",
    "        shutil.move(f'snow/{snow_files[i]}', 'snow/train')\n",
    "    for i in range(i + 1, i + validation_set_size + 1): # Continue using i from where we left off in previous for loop\n",
    "        shutil.move(f'rain/{rain_files[i]}', 'rain/validate')\n",
    "        shutil.move(f'lightning/{lightning_files[i]}', 'lightning/validate')\n",
    "        shutil.move(f'snow/{snow_files[i]}', 'snow/validate')\n",
    "    for i in range(i + 1, i + testing_set_size + 1):\n",
    "        shutil.move(f'rain/{rain_files[i]}', 'rain/test')\n",
    "        shutil.move(f'lightning/{lightning_files[i]}', 'lightning/test')\n",
    "        shutil.move(f'snow/{snow_files[i]}', 'snow/test')\n",
    "        \n",
    "os.chdir('../')"
   ]
  },
  {
   "cell_type": "code",
   "execution_count": 75,
   "id": "54689ab1",
   "metadata": {},
   "outputs": [],
   "source": [
    "# Ensure the correct number of files are in each folder\n",
    "assert len(os.listdir('data/rain/train')) == len(os.listdir('data/lightning/train')) == len(os.listdir('data/snow/train')) == training_set_size\n",
    "assert len(os.listdir('data/rain/validate')) == len(os.listdir('data/lightning/validate')) == len(os.listdir('data/snow/validate')) == validation_set_size\n",
    "assert len(os.listdir('data/rain/test')) == len(os.listdir('data/lightning/test')) == len(os.listdir('data/snow/test')) == testing_set_size"
   ]
  },
  {
   "cell_type": "markdown",
   "id": "9f1f1009",
   "metadata": {},
   "source": [
    "### 1.2 Image normalisation"
   ]
  },
  {
   "cell_type": "markdown",
   "id": "70ba63ff",
   "metadata": {},
   "source": [
    "I will be using a Keras Sequential model to classify the images. Inspired by successful existing CNN models, decided to resize all images to 224x224. I will then use the the Keras image module to convert the image to an array. To reduce training time and ensure the red, green, and blue channels are in the same range, I will normalise the images by applying Min-Max scaling to the RGB channels with the range \\[0,1\\]. \n",
    "\n",
    "Initially, I also included image augmentation in this step to generate an additional image for each training example, but I found it didn't help very much with the generalisation of my model and slowed down training significantly, so I decided to remove it.\n",
    "\n",
    "Here is the method I defined to normalise the images:"
   ]
  },
  {
   "cell_type": "code",
   "execution_count": 76,
   "id": "57d3a0d5",
   "metadata": {},
   "outputs": [],
   "source": [
    "import numpy as np\n",
    "from tensorflow.keras.preprocessing import image\n",
    "from sklearn.preprocessing import MinMaxScaler\n",
    "\n",
    "# Define Min-Max scaler for RGB channel normalisation\n",
    "scaler = MinMaxScaler(feature_range=(0, 1))\n",
    "\n",
    "def normalise_image(file_path):\n",
    "    # Load image and resize it to 224x224\n",
    "    img = image.load_img(file_path, target_size=(224, 224))\n",
    "    # Convert the image to a numpy array with shape (128, 128, 3)\n",
    "    img = image.img_to_array(img)\n",
    "    # The scaler expects a 2D array where each row corresponds to a sample and each column to a feature\n",
    "    # Reshape image to (16384, 3) so the features can be scaled\n",
    "    img = img.reshape(-1, 3)\n",
    "    img = scaler.fit_transform(img)\n",
    "    # Reshape image back to original dimensions\n",
    "    return img.reshape(224, 224, 3)"
   ]
  },
  {
   "cell_type": "markdown",
   "id": "589e7a8c",
   "metadata": {},
   "source": [
    "### 1.4 Build training, validation, and testing sets"
   ]
  },
  {
   "cell_type": "markdown",
   "id": "08ac15fb",
   "metadata": {},
   "source": [
    "To build the training, validation, and testing sets I am iterating through all images in their respective folders, normalising them using the method defined in section 1.2, and saving them to their respective lists. I then build the lists of labels and convert them to numpy arrays."
   ]
  },
  {
   "cell_type": "code",
   "execution_count": 77,
   "id": "d02e29b8",
   "metadata": {},
   "outputs": [],
   "source": [
    "classes = ['rain', 'lightning', 'snow']\n",
    "\n",
    "training_data = []\n",
    "validation_data = []\n",
    "testing_data = []\n",
    "\n",
    "# Iterate through different classes\n",
    "for class_name in classes:\n",
    "    # Append training images\n",
    "    for file_name in os.listdir(f'data/{class_name}/train'):\n",
    "        training_data.append(normalise_image(f'data/{class_name}/train/{file_name}'))\n",
    "    # Append validation images\n",
    "    for file_name in os.listdir(f'data/{class_name}/validate'):\n",
    "        validation_data.append(normalise_image(f'data/{class_name}/validate/{file_name}'))\n",
    "    # Append testing images\n",
    "    for file_name in os.listdir(f'data/{class_name}/test'):\n",
    "        testing_data.append(normalise_image(f'data/{class_name}/test/{file_name}'))\n",
    "        \n",
    "# Convert to numpy arrays so they can be used in a Sequential model\n",
    "training_data = np.array(training_data)\n",
    "validation_data = np.array(validation_data)\n",
    "testing_data = np.array(testing_data)"
   ]
  },
  {
   "cell_type": "markdown",
   "id": "24b0079e",
   "metadata": {},
   "source": [
    "As the data is added to the sets in order, we can build the labels relatively easily. I decided to build them as a list where 0 corresponds to rain, 1 to lightning, and 2 to snow. I then used the Keras to_categorical method to one-hot encode the labels so they are ready to be used in the model."
   ]
  },
  {
   "cell_type": "code",
   "execution_count": 78,
   "id": "9a5c8b71",
   "metadata": {},
   "outputs": [],
   "source": [
    "from tensorflow.keras.utils import to_categorical\n",
    "\n",
    "# Build lists of labels\n",
    "training_label = np.array([[i] for i in range(3) for j in range(training_set_size)])\n",
    "validation_label = np.array([[i] for i in range(3) for j in range(validation_set_size)])\n",
    "testing_label = np.array([[i] for i in range(3) for j in range(testing_set_size)])\n",
    "\n",
    "# Ensure labels are one-hot encoded\n",
    "# (1 0 0) corresponds to rain, (0 1 0) lightning, (0 0 1) snow\n",
    "training_label = to_categorical(training_label, 3)\n",
    "validation_label = to_categorical(validation_label, 3)\n",
    "testing_label = to_categorical(testing_label, 3)"
   ]
  },
  {
   "cell_type": "markdown",
   "id": "1b250061",
   "metadata": {},
   "source": [
    "To ensure I haven't made any mistakes with dimensionality on the way, I will now use 'assert' to check the amount of samples in the training data matches the amount of training labels and the expected set size we calculated earlier."
   ]
  },
  {
   "cell_type": "code",
   "execution_count": 79,
   "id": "98c54575",
   "metadata": {},
   "outputs": [],
   "source": [
    "assert training_data.shape[0] == training_label.shape[0] == training_set_size*3\n",
    "assert validation_data.shape[0] == validation_label.shape[0] == validation_set_size*3\n",
    "assert testing_data.shape[0] == testing_label.shape[0] == testing_set_size*3"
   ]
  },
  {
   "cell_type": "markdown",
   "id": "3eadf392",
   "metadata": {},
   "source": [
    "Next I shuffle the training and validation data with their corresponding labels consistently."
   ]
  },
  {
   "cell_type": "code",
   "execution_count": 80,
   "id": "57bae2eb",
   "metadata": {},
   "outputs": [],
   "source": [
    "training_data, training_label = shuffle(training_data, training_label)\n",
    "validation_data, validation_label = shuffle(validation_data, validation_label)"
   ]
  },
  {
   "cell_type": "markdown",
   "id": "63955d96",
   "metadata": {},
   "source": [
    "## 2 Building the model"
   ]
  },
  {
   "cell_type": "markdown",
   "id": "db3c1a6f",
   "metadata": {},
   "source": [
    "To build the model, I was inspired to use several sets of convolutional and max pooling layers by the structure of other well-known high performance models, such as VGG16. The filter size initially starts small and increases, making the feature space deeper, while the pooling layer decreases the first two dimensions of the feature space. The intuition behind this is captuing as much local information as possible at the beginning many using different kernels and and reducing the first two dimensions to extract and represent more high-level information.\n",
    "\n",
    "Finally, the model is flattened and fed into a dense layer which gives our output.\n",
    "\n",
    "I experimented with the impact of number of convolutional and pooling layers on the model and settled on 3 of each. Because I observed the model was overfitting the training set and not performing so well on the validation set, I decided to add a dropout before feeding the data into the dense layer. This means the model ignores randomly selected neurons during training, which can help increase generalisation."
   ]
  },
  {
   "cell_type": "code",
   "execution_count": 81,
   "id": "98e541f7",
   "metadata": {},
   "outputs": [],
   "source": [
    "import tensorflow as tf\n",
    "from tensorflow import keras\n",
    "from tensorflow.keras.models import Sequential\n",
    "from tensorflow.keras.layers import Activation, Dense, Flatten, Conv2D, MaxPool2D, BatchNormalization, Dropout\n",
    "from tensorflow.keras.optimizers import Adam\n",
    "from tensorflow.keras.metrics import categorical_crossentropy\n",
    "\n",
    "# Define Sequential CNN model\n",
    "model = Sequential([\n",
    "    Conv2D(filters=64, kernel_size=(3, 3), activation='relu', padding='same', input_shape=(224, 224, 3)),\n",
    "    MaxPool2D(pool_size=(2, 2), strides=2),\n",
    "\n",
    "    Conv2D(filters=128, kernel_size=(3, 3), activation='relu', padding='same'),\n",
    "    MaxPool2D(pool_size=(2, 2), strides=2),\n",
    "\n",
    "    Conv2D(filters=256, kernel_size=(3, 3), activation='relu', padding='same'),\n",
    "    MaxPool2D(pool_size=(2, 2), strides=2),\n",
    "\n",
    "    Flatten(),\n",
    "    Dropout(0.2),\n",
    "    Dense(units=3, activation='softmax')\n",
    "])"
   ]
  },
  {
   "cell_type": "markdown",
   "id": "7855de69",
   "metadata": {},
   "source": [
    "I used the Adam optimiser and a learning rate of 0.0001 as is common practice in similar CNN models. I decided to use categorical_crossentropy for the loss as it is designed specifically for classification problems."
   ]
  },
  {
   "cell_type": "code",
   "execution_count": 82,
   "id": "ce21fb0c",
   "metadata": {},
   "outputs": [],
   "source": [
    "model.compile(optimizer=Adam(learning_rate=0.0001),\n",
    "             loss='categorical_crossentropy',\n",
    "             metrics=['accuracy'])"
   ]
  },
  {
   "cell_type": "code",
   "execution_count": 83,
   "id": "6910dcb3",
   "metadata": {},
   "outputs": [
    {
     "name": "stdout",
     "output_type": "stream",
     "text": [
      "Model: \"sequential\"\n",
      "_________________________________________________________________\n",
      " Layer (type)                Output Shape              Param #   \n",
      "=================================================================\n",
      " conv2d (Conv2D)             (None, 224, 224, 64)      1792      \n",
      "                                                                 \n",
      " max_pooling2d (MaxPooling2D  (None, 112, 112, 64)     0         \n",
      " )                                                               \n",
      "                                                                 \n",
      " conv2d_1 (Conv2D)           (None, 112, 112, 128)     73856     \n",
      "                                                                 \n",
      " max_pooling2d_1 (MaxPooling  (None, 56, 56, 128)      0         \n",
      " 2D)                                                             \n",
      "                                                                 \n",
      " conv2d_2 (Conv2D)           (None, 56, 56, 256)       295168    \n",
      "                                                                 \n",
      " max_pooling2d_2 (MaxPooling  (None, 28, 28, 256)      0         \n",
      " 2D)                                                             \n",
      "                                                                 \n",
      " flatten (Flatten)           (None, 200704)            0         \n",
      "                                                                 \n",
      " dropout (Dropout)           (None, 200704)            0         \n",
      "                                                                 \n",
      " dense (Dense)               (None, 3)                 602115    \n",
      "                                                                 \n",
      "=================================================================\n",
      "Total params: 972,931\n",
      "Trainable params: 972,931\n",
      "Non-trainable params: 0\n",
      "_________________________________________________________________\n"
     ]
    }
   ],
   "source": [
    "model.summary()"
   ]
  },
  {
   "cell_type": "code",
   "execution_count": 84,
   "id": "6ff25fcf",
   "metadata": {},
   "outputs": [
    {
     "name": "stdout",
     "output_type": "stream",
     "text": [
      "Num GPUs Available:  1\n"
     ]
    }
   ],
   "source": [
    "# Check the GPU has been detected and will be used for training\n",
    "physical_devices = tf.config.experimental.list_physical_devices('GPU')\n",
    "print(\"Num GPUs Available: \", len(physical_devices))"
   ]
  },
  {
   "cell_type": "markdown",
   "id": "d56e8c80",
   "metadata": {},
   "source": [
    "I now fit the model to the training data. After some experimentation, I decided to use 10 epochs and a batch size of 32."
   ]
  },
  {
   "cell_type": "code",
   "execution_count": 85,
   "id": "12a6bb38",
   "metadata": {},
   "outputs": [
    {
     "name": "stdout",
     "output_type": "stream",
     "text": [
      "Epoch 1/10\n",
      "29/29 - 38s - loss: 0.8979 - accuracy: 0.5204 - val_loss: 0.6859 - val_accuracy: 0.6757 - 38s/epoch - 1s/step\n",
      "Epoch 2/10\n",
      "29/29 - 27s - loss: 0.5998 - accuracy: 0.7173 - val_loss: 0.5315 - val_accuracy: 0.7568 - 27s/epoch - 929ms/step\n",
      "Epoch 3/10\n",
      "29/29 - 27s - loss: 0.4929 - accuracy: 0.7866 - val_loss: 0.4482 - val_accuracy: 0.8018 - 27s/epoch - 924ms/step\n",
      "Epoch 4/10\n",
      "29/29 - 26s - loss: 0.4013 - accuracy: 0.8559 - val_loss: 0.4291 - val_accuracy: 0.8198 - 26s/epoch - 903ms/step\n",
      "Epoch 5/10\n",
      "29/29 - 26s - loss: 0.3411 - accuracy: 0.8735 - val_loss: 0.3692 - val_accuracy: 0.8108 - 26s/epoch - 902ms/step\n",
      "Epoch 6/10\n",
      "29/29 - 26s - loss: 0.3064 - accuracy: 0.8966 - val_loss: 0.3481 - val_accuracy: 0.8378 - 26s/epoch - 902ms/step\n",
      "Epoch 7/10\n",
      "29/29 - 26s - loss: 0.2543 - accuracy: 0.9098 - val_loss: 0.2771 - val_accuracy: 0.8649 - 26s/epoch - 903ms/step\n",
      "Epoch 8/10\n",
      "29/29 - 29s - loss: 0.2477 - accuracy: 0.9065 - val_loss: 0.2922 - val_accuracy: 0.8739 - 29s/epoch - 992ms/step\n",
      "Epoch 9/10\n",
      "29/29 - 26s - loss: 0.2222 - accuracy: 0.9252 - val_loss: 0.3369 - val_accuracy: 0.8288 - 26s/epoch - 900ms/step\n",
      "Epoch 10/10\n",
      "29/29 - 26s - loss: 0.2003 - accuracy: 0.9329 - val_loss: 0.2709 - val_accuracy: 0.8559 - 26s/epoch - 898ms/step\n"
     ]
    },
    {
     "data": {
      "text/plain": [
       "<keras.callbacks.History at 0x23bff07f820>"
      ]
     },
     "execution_count": 85,
     "metadata": {},
     "output_type": "execute_result"
    }
   ],
   "source": [
    "model.fit(x=training_data,\n",
    "          y=training_label,\n",
    "         validation_data=(validation_data, validation_label),\n",
    "         epochs=10,\n",
    "         verbose=2,\n",
    "         batch_size=32)"
   ]
  },
  {
   "cell_type": "markdown",
   "id": "62ac5780",
   "metadata": {},
   "source": [
    "## 3 Testing the model\n",
    "To test the model, I first generated a list of predictions from the testing set defined earlier."
   ]
  },
  {
   "cell_type": "code",
   "execution_count": 86,
   "id": "fc7cadae",
   "metadata": {},
   "outputs": [
    {
     "name": "stdout",
     "output_type": "stream",
     "text": [
      "(111, 224, 224, 3)\n",
      "4/4 [==============================] - 1s 392ms/step\n"
     ]
    }
   ],
   "source": [
    "# Predict image class for each image in testing data\n",
    "print(testing_data.shape)\n",
    "predictions = model.predict(x=testing_data)\n",
    "\n",
    "# Pick the prediction with the highest confidence using argmax\n",
    "predictions = np.argmax(predictions, axis=1)"
   ]
  },
  {
   "cell_type": "markdown",
   "id": "03e4487e",
   "metadata": {},
   "source": [
    "### 3.1 Generate confusion matrix"
   ]
  },
  {
   "cell_type": "markdown",
   "id": "64df4e4e",
   "metadata": {},
   "source": [
    "To interpret the results, I decided to create a confusion matrix using sklearn."
   ]
  },
  {
   "cell_type": "code",
   "execution_count": 87,
   "id": "39972ee6",
   "metadata": {},
   "outputs": [],
   "source": [
    "from sklearn.metrics import confusion_matrix\n",
    "\n",
    "cm = confusion_matrix(y_true=np.argmax(testing_label, axis=1),\n",
    "                     y_pred=predictions)"
   ]
  },
  {
   "cell_type": "markdown",
   "id": "94a873b9",
   "metadata": {},
   "source": [
    "To visualise the confusion matrix, I used matplotlib."
   ]
  },
  {
   "cell_type": "code",
   "execution_count": 88,
   "id": "80b8ce4b",
   "metadata": {},
   "outputs": [
    {
     "data": {
      "image/png": "[encoded data removed]",
      "text/plain": [
       "<Figure size 640x480 with 2 Axes>"
      ]
     },
     "metadata": {},
     "output_type": "display_data"
    }
   ],
   "source": [
    "import matplotlib.pyplot as plt\n",
    "\n",
    "plt.imshow(cm, cmap=plt.cm.Reds)\n",
    "plt.title(\"Confusion Matrix\")\n",
    "plt.colorbar()\n",
    "# Tick marks should ve evenly spaced within the interval of 0-2\n",
    "tick_marks = np.arange(start=0,\n",
    "                      stop=3)\n",
    "plt.xticks(tick_marks, classes)\n",
    "plt.yticks(tick_marks, classes)\n",
    "plt.xlabel(\"Predicted Class\")\n",
    "plt.ylabel(\"True Class\")\n",
    "# Display number of classified images for each component of the confusion matrix\n",
    "for i in range(cm.shape[0]):\n",
    "    for j in range(cm.shape[1]):\n",
    "        plt.text(j, i, cm[i, j],\n",
    "            horizontalalignment=\"center\",\n",
    "            color=\"blue\")"
   ]
  },
  {
   "cell_type": "markdown",
   "id": "867ffdf1",
   "metadata": {},
   "source": [
    "As can be seen in the confusion matrix, the model is very good at classifying the lightning and snow images, with only one of the test images misclassified for each set. However, the model hasn't captured the rain images as well. This might be because the dataset I used had a variety of images (in many of which it isn't actually raining) ranging from people walking in the rain to flooded streets.\n",
    "\n",
    "Overall, I am pleased with the performance of this model. It had an accuracy of about 92% on the test set, which suggests it has captured general patterns seen in the images well."
   ]
  }
 ],
 "metadata": {
  "kernelspec": {
   "display_name": "Python 3 (ipykernel)",
   "language": "python",
   "name": "python3"
  },
  "language_info": {
   "codemirror_mode": {
    "name": "ipython",
    "version": 3
   },
   "file_extension": ".py",
   "mimetype": "text/x-python",
   "name": "python",
   "nbconvert_exporter": "python",
   "pygments_lexer": "ipython3",
   "version": "3.10.4"
  }
 },
 "nbformat": 4,
 "nbformat_minor": 5
}
